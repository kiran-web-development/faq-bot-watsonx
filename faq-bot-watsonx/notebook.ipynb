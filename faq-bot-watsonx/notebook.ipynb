{
 "cells": [
  {
   "cell_type": "markdown",
   "metadata": {},
   "source": [
    "# FAQ Bot Simulation using Python"
   ]
  },
  {
   "cell_type": "code",
   "execution_count": null,
   "metadata": {},
   "outputs": [],
   "source": [
    "# Sample FAQ logic (simulating Watsonx prompt response)\n",
    "faq_data = {\n",
    "    \"What are your business hours?\": \"Our business hours are Monday–Friday, 9 AM to 6 PM.\",\n",
    "    \"How can I contact support?\": \"You can contact support via email at support@example.com.\",\n",
    "    \"Where are you located?\": \"We are located in Hyderabad, India.\",\n",
    "}\n",
    "\n",
    "def ask_question(question):\n",
    "    for q in faq_data:\n",
    "        if question.lower() in q.lower():\n",
    "            return faq_data[q]\n",
    "    return \"Sorry, I don't know the answer to that.\"\n",
    "\n",
    "# Test\n",
    "print(ask_question(\"How can I reach support?\"))"
   ]
  }
 ],
 "metadata": {
  "kernelspec": {
   "display_name": "Python 3",
   "language": "python",
   "name": "python3"
  },
  "language_info": {
   "name": "python",
   "version": "3.10"
  }
 },
 "nbformat": 4,
 "nbformat_minor": 2
}
